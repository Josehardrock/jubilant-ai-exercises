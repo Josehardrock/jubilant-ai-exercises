{
 "cells": [
  {
   "cell_type": "code",
   "execution_count": 1,
   "metadata": {},
   "outputs": [
    {
     "name": "stdout",
     "output_type": "stream",
     "text": [
      "Error: los números deben ser positivos 5, -1\n",
      "The test result is -1\n",
      "The test result is 3116\n",
      "The test result is 96\n"
     ]
    }
   ],
   "source": [
    "# Crea una función con dos parámetros de entrada\n",
    "# Si alguno de los parámetros es negativo la función imprime por pantalla un mensaje de error y devuelve -1\n",
    "# Si no, devuelve la suma de los dos números.\n",
    "\n",
    "def add_numbers(a:int, b:int):\n",
    "    if a < 0 or b < 0:\n",
    "        print(f\"Error: los números deben ser positivos {a}, {b}\")\n",
    "        return -1\n",
    "    else:\n",
    "        return a + b\n",
    "\n",
    "print(f\"The test result is {add_numbers(5,-1)}\")\n",
    "print(f\"The test result is {add_numbers(800,2316)}\")\n",
    "print(f\"The test result is {add_numbers(21,75)}\")"
   ]
  }
 ],
 "metadata": {
  "kernelspec": {
   "display_name": "base",
   "language": "python",
   "name": "python3"
  },
  "language_info": {
   "codemirror_mode": {
    "name": "ipython",
    "version": 3
   },
   "file_extension": ".py",
   "mimetype": "text/x-python",
   "name": "python",
   "nbconvert_exporter": "python",
   "pygments_lexer": "ipython3",
   "version": "3.12.4"
  }
 },
 "nbformat": 4,
 "nbformat_minor": 2
}
