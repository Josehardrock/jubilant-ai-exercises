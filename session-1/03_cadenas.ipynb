{
 "cells": [
  {
   "cell_type": "markdown",
   "metadata": {},
   "source": [
    "**Cadenas**"
   ]
  },
  {
   "cell_type": "code",
   "execution_count": null,
   "metadata": {},
   "outputs": [],
   "source": [
    "# Escribir varias variables que sean cadenas de caracteres\n",
    "\n",
    "hello_text = \"Hello Dragon Rider\"\n",
    "master_name = \"Aegon Targaryen\"\n",
    "first_name = \"David\"\n",
    "dragon_name = \"Vermitor\"\n",
    "rider_dragon = \"Syrax\"\n",
    "\n",
    "# Concatenar varias de ellas con interpolación de cadenas\n",
    "my_sentence = f\"{hello_text}, my name is {master_name}, my dragon is {dragon_name}\" \n",
    "print(my_sentence)\n",
    "\n",
    "# Coger la sub-cadena de una de las cadenas principales\n",
    "sub_sentence = my_sentence[48:]\n",
    "print(sub_sentence)\n",
    "\n",
    "# Ver si la sub-cadena está en la cadena principal\n",
    "contains = sub_sentence in my_sentence\n",
    "\n",
    "#Comparar si una cadena (inventada, sin relación con la cadena principal) está contenida en la cadena principal\n",
    "notContains = \"Syrax\" in my_sentence\n",
    " \n",
    "print(f\"The string contains {contains}\")\n",
    "print(f\"The string do not contaiins {notContains}\")  "
   ]
  }
 ],
 "metadata": {
  "kernelspec": {
   "display_name": "Python 3",
   "language": "python",
   "name": "python3"
  },
  "language_info": {
   "name": "python",
   "version": "3.12.4"
  }
 },
 "nbformat": 4,
 "nbformat_minor": 2
}
